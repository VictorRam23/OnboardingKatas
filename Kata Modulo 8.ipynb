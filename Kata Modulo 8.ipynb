{
 "cells": [
  {
   "cell_type": "markdown",
   "metadata": {},
   "source": [
    "Kata Modulo 8"
   ]
  },
  {
   "cell_type": "markdown",
   "metadata": {},
   "source": [
    "Ejercicio 1 "
   ]
  },
  {
   "cell_type": "code",
   "execution_count": 4,
   "metadata": {},
   "outputs": [
    {
     "name": "stdout",
     "output_type": "stream",
     "text": [
      "Mars tiene 2 lunas\n",
      "Mars tiene la coordenada polar de 6752\n"
     ]
    }
   ],
   "source": [
    "planet={\n",
    "'name': 'Mars',\n",
    "'moons': 2 \n",
    "}\n",
    "print(\"{} tiene {} lunas\".format(planet['name'],planet['moons']))\n",
    "planet['circunferencia']={\n",
    "    'polar':6752,\n",
    "    'equatorial': 6792\n",
    "}\n",
    "print(\"{} tiene la coordenada polar de {}\".format(planet['name'],planet['circunferencia']['polar']))"
   ]
  },
  {
   "cell_type": "markdown",
   "metadata": {},
   "source": [
    "Ejercicio 2 "
   ]
  },
  {
   "cell_type": "code",
   "execution_count": 11,
   "metadata": {},
   "outputs": [
    {
     "name": "stdout",
     "output_type": "stream",
     "text": [
      "Son un total de 214\n",
      "El promedio de lunas es 18\n"
     ]
    }
   ],
   "source": [
    "planet_moons={\n",
    "    'mercury':0,\n",
    "    'venus':0,\n",
    "    'earth':1,\n",
    "    'mars':2,\n",
    "    'jupiter':79,\n",
    "    'saturn':82,\n",
    "    'uranus':27,\n",
    "    'neptune':14,\n",
    "    'pluto':5,\n",
    "    'haumea':2,\n",
    "    'makemake':1,\n",
    "    'eris':1\n",
    "}\n",
    "moons=planet_moons.values()\n",
    "lunas=0\n",
    "for moon in moons:\n",
    "    lunas=lunas+moon\n",
    "print(\"Son un total de {}\".format(lunas))\n",
    "planets=len(planet_moons.keys())\n",
    "average=lunas/planets\n",
    "print(\"El promedio de lunas es {}\".format(round(average)))"
   ]
  }
 ],
 "metadata": {
  "interpreter": {
   "hash": "033db2525ef7bef93c3a414346bf8378ec1e5550355a1c43fd4c72e56b84bd4c"
  },
  "kernelspec": {
   "display_name": "Python 3.10.2 64-bit",
   "language": "python",
   "name": "python3"
  },
  "language_info": {
   "codemirror_mode": {
    "name": "ipython",
    "version": 3
   },
   "file_extension": ".py",
   "mimetype": "text/x-python",
   "name": "python",
   "nbconvert_exporter": "python",
   "pygments_lexer": "ipython3",
   "version": "3.10.2"
  },
  "orig_nbformat": 4
 },
 "nbformat": 4,
 "nbformat_minor": 2
}
