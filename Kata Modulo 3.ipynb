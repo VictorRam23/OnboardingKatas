{
 "cells": [
  {
   "cell_type": "markdown",
   "metadata": {},
   "source": [
    "Kata Modulo 3"
   ]
  },
  {
   "cell_type": "code",
   "execution_count": 6,
   "metadata": {},
   "outputs": [
    {
     "name": "stdout",
     "output_type": "stream",
     "text": [
      "Tierra a salvo\n",
      "Advertencia\n"
     ]
    }
   ],
   "source": [
    "asteroide = 49\n",
    "if asteroide > 25:\n",
    "    print('¡Alerta! ¡Estas en peligro!')\n",
    "else:\n",
    "    print('¡Sigue con tu día!')\n",
    "      "
   ]
  },
  {
   "cell_type": "code",
   "execution_count": null,
   "metadata": {},
   "outputs": [],
   "source": [
    "asteroide = 19\n",
    "if asteroide > 20:\n",
    "    print('Mira una luz')\n",
    "elif asteroide == 20:\n",
    "    print('Mira una luz')\n",
    "else:\n",
    "    print('¡Nada interesante por ver')"
   ]
  },
  {
   "cell_type": "code",
   "execution_count": null,
   "metadata": {},
   "outputs": [],
   "source": [
    "velocidad_asteroide = 25\n",
    "tamano_asteroide = 40\n",
    "if velocidad_asteroide > 25 and tamano_asteroide > 25:\n",
    "    print('¡Alerta, Estas en peligro!')\n",
    "elif velocidad_asteroide >= 20:\n",
    "    print('Mira una luz')\n",
    "elif tamano_asteroide < 25:\n",
    "    print('Nada interesante por ver')\n",
    "else:\n",
    "    print('Nada interesante por ver')"
   ]
  }
 ],
 "metadata": {
  "interpreter": {
   "hash": "033db2525ef7bef93c3a414346bf8378ec1e5550355a1c43fd4c72e56b84bd4c"
  },
  "kernelspec": {
   "display_name": "Python 3.10.2 64-bit",
   "language": "python",
   "name": "python3"
  },
  "language_info": {
   "codemirror_mode": {
    "name": "ipython",
    "version": 3
   },
   "file_extension": ".py",
   "mimetype": "text/x-python",
   "name": "python",
   "nbconvert_exporter": "python",
   "pygments_lexer": "ipython3",
   "version": "3.10.2"
  },
  "orig_nbformat": 4
 },
 "nbformat": 4,
 "nbformat_minor": 2
}
