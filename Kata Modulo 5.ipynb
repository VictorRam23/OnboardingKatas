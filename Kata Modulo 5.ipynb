{
 "cells": [
  {
   "cell_type": "markdown",
   "metadata": {},
   "source": [
    "Kata Modulo 5 "
   ]
  },
  {
   "cell_type": "markdown",
   "metadata": {},
   "source": [
    "Ejercicio 1 "
   ]
  },
  {
   "cell_type": "code",
   "execution_count": 6,
   "metadata": {},
   "outputs": [
    {
     "name": "stdout",
     "output_type": "stream",
     "text": [
      "Distancia entre planetas en km: 628949330\n",
      "Distancia entre planentas en millas:390577533.93 \n"
     ]
    }
   ],
   "source": [
    "planet1=149597870\n",
    "planeta2=778547200\n",
    "distance=planeta2-planeta1\n",
    "distancem=distance*.621\n",
    "print(\"Distancia entre planetas en km: {}\".format(distance))\n",
    "print(\"Distancia entre planentas en millas:{}\".format(distancem))"
   ]
  },
  {
   "cell_type": "markdown",
   "metadata": {},
   "source": [
    "Ejercicio 2 "
   ]
  },
  {
   "cell_type": "code",
   "execution_count": 7,
   "metadata": {},
   "outputs": [
    {
     "name": "stdout",
     "output_type": "stream",
     "text": [
      "629000000\n",
      "390609000.0\n"
     ]
    }
   ],
   "source": [
    "planeta1=input('Distancia del sol de este planeta en KM')\n",
    "planeta2=input('Distancia del sol de segundo planeta en KM')\n",
    "planeta1=int(planeta1)\n",
    "planeta2=int(planeta2)\n",
    "distancia=planeta2-planeta1\n",
    "print(distancia)\n",
    "distanciam=distance*.621\n",
    "print (distanciam)"
   ]
  }
 ],
 "metadata": {
  "interpreter": {
   "hash": "033db2525ef7bef93c3a414346bf8378ec1e5550355a1c43fd4c72e56b84bd4c"
  },
  "kernelspec": {
   "display_name": "Python 3.10.2 64-bit",
   "language": "python",
   "name": "python3"
  },
  "language_info": {
   "codemirror_mode": {
    "name": "ipython",
    "version": 3
   },
   "file_extension": ".py",
   "mimetype": "text/x-python",
   "name": "python",
   "nbconvert_exporter": "python",
   "pygments_lexer": "ipython3",
   "version": "3.10.2"
  },
  "orig_nbformat": 4
 },
 "nbformat": 4,
 "nbformat_minor": 2
}
