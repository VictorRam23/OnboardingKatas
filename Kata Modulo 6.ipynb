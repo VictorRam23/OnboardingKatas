{
 "cells": [
  {
   "cell_type": "markdown",
   "metadata": {},
   "source": [
    "Kata Modulo 6"
   ]
  },
  {
   "cell_type": "markdown",
   "metadata": {},
   "source": [
    "Ejercicio 1 "
   ]
  },
  {
   "cell_type": "code",
   "execution_count": 1,
   "metadata": {},
   "outputs": [
    {
     "name": "stdout",
     "output_type": "stream",
     "text": [
      "Son 8 planetas\n",
      "Pluto\n",
      "9\n"
     ]
    }
   ],
   "source": [
    "planets=[\"Mercury\", \"Venus\", \"Jupiter\",\"Earth\", \"Mars\", \"Jupiter\", \"Saturn\", \"Neptune\"]\n",
    "cantidad=len(planets)\n",
    "print(\"Son {} planetas\".format(cantidad))\n",
    "planets.append(\"Pluto\")\n",
    "print(planets[-1])\n",
    "print(len(planets))"
   ]
  },
  {
   "cell_type": "markdown",
   "metadata": {},
   "source": [
    "Ejercicio 2 "
   ]
  },
  {
   "cell_type": "code",
   "execution_count": 6,
   "metadata": {},
   "outputs": [
    {
     "name": "stdout",
     "output_type": "stream",
     "text": [
      "Estos son los planetas mas cercanos al sol que Mars\n",
      "['Mercury', 'Venus', 'Earth']\n",
      "Estos son los planetas mas lejos del sol que Mars\n",
      "['Jupiter', 'Saturn', 'Neptune']\n"
     ]
    }
   ],
   "source": [
    "planets=['Mercury', 'Venus', 'Earth','Mars', 'Jupiter', 'Saturn', 'Neptune']\n",
    "p=input(\"Escribe el nombre de un planeta con la primera letra en mayusculas\")\n",
    "p_indice=planets.index(p)\n",
    "print(\"Estos son los planetas mas cercanos al sol que {}\".format(p))\n",
    "print(planets[0:p_indice])\n",
    "print(\"Estos son los planetas mas lejos del sol que {}\".format(p))\n",
    "print(planets[p_indice+1:])"
   ]
  }
 ],
 "metadata": {
  "interpreter": {
   "hash": "033db2525ef7bef93c3a414346bf8378ec1e5550355a1c43fd4c72e56b84bd4c"
  },
  "kernelspec": {
   "display_name": "Python 3.10.2 64-bit",
   "language": "python",
   "name": "python3"
  },
  "language_info": {
   "codemirror_mode": {
    "name": "ipython",
    "version": 3
   },
   "file_extension": ".py",
   "mimetype": "text/x-python",
   "name": "python",
   "nbconvert_exporter": "python",
   "pygments_lexer": "ipython3",
   "version": "3.10.2"
  },
  "orig_nbformat": 4
 },
 "nbformat": 4,
 "nbformat_minor": 2
}
